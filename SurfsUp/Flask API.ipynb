{
 "cells": [
  {
   "cell_type": "code",
   "execution_count": 1,
   "metadata": {},
   "outputs": [],
   "source": [
    "# Dependencies\n",
    "import sqlalchemy\n",
    "from flask import Flask, jsonify, render_template\n",
    "from sqlalchemy.ext.automap import automap_base\n",
    "from sqlalchemy.orm import Session\n",
    "from sqlalchemy import create_engine, func\n",
    "import pandas as pd"
   ]
  },
  {
   "cell_type": "code",
   "execution_count": 2,
   "metadata": {},
   "outputs": [],
   "source": [
    "# create engine to hawaii.sqlite\n",
    "engine = create_engine(\"sqlite:///Resources/hawaii.sqlite\")\n",
    "\n",
    "# Create our session (link) from Python to the DB\n",
    "session = Session(engine)"
   ]
  },
  {
   "cell_type": "code",
   "execution_count": 3,
   "metadata": {},
   "outputs": [
    {
     "name": "stderr",
     "output_type": "stream",
     "text": [
      "/var/folders/ds/jk39g9xd62v_5kxdlxcxn0800000gn/T/ipykernel_26001/1483291640.py:3: SADeprecationWarning: The AutomapBase.prepare.reflect parameter is deprecated and will be removed in a future release.  Reflection is enabled when AutomapBase.prepare.autoload_with is passed.\n",
      "  Base.prepare(engine, reflect=True)\n"
     ]
    }
   ],
   "source": [
    "# reflect an existing database into a new model\n",
    "Base = automap_base()\n",
    "Base.prepare(engine, reflect=True)\n",
    "\n",
    "# Get the table names from the database\n",
    "table_names = Base.classes.keys()"
   ]
  },
  {
   "cell_type": "code",
   "execution_count": 4,
   "metadata": {},
   "outputs": [],
   "source": [
    "# Save references to each table\n",
    "M_base = Base.classes.measurement\n",
    "S_base = Base.classes.station"
   ]
  },
  {
   "cell_type": "code",
   "execution_count": 5,
   "metadata": {},
   "outputs": [],
   "source": [
    "# Import Measurement data\n",
    "measure_col_names = [column.key for column in M_base.__table__.columns]\n",
    "measure_rows = session.query(M_base).all()\n",
    "measure_data = [m.__dict__ for m in measure_rows]\n",
    "Measurement = pd.DataFrame(measure_data, columns=measure_col_names)\n",
    "\n",
    "# Import Station data\n",
    "station_col_names = [column.key for column in S_base.__table__.columns]\n",
    "station_rows = session.query(S_base).all()\n",
    "station_data = [s.__dict__ for s in station_rows]\n",
    "Station = pd.DataFrame(station_data, columns=station_col_names)"
   ]
  },
  {
   "cell_type": "code",
   "execution_count": 6,
   "metadata": {},
   "outputs": [],
   "source": [
    "# create Flask app\n",
    "\n",
    "app = Flask(__name__)"
   ]
  },
  {
   "cell_type": "code",
   "execution_count": 7,
   "metadata": {},
   "outputs": [],
   "source": [
    "\n",
    "@app.route(\"/\")\n",
    "def home():\n",
    "    routes = [rule.rule for rule in app.url_map.iter_rules() if \"static\" not in rule.rule]\n",
    "    routes_html = \"\\n\".join([f\"<p style='font-size: 30px;'>{url}</p>\" for url in routes])\n",
    "    return render_template(\"home.html\", routes_html=routes_html)\n",
    "\n",
    "\n",
    "@app.route(\"/second\")\n",
    "def second():\n",
    "    print(\"Server received request for SECOND page...\")\n",
    "    return \"Welcome to the SECOND page!\"\n",
    "\n",
    "@app.route(\"/measurement\")\n",
    "def display_measurement():\n",
    "    mcol = Measurement.columns.tolist()  # Get column names\n",
    "    mrows = Measurement.to_dict(orient='records')  # Convert DataFrame to list of dictionaries\n",
    "    return render_template(\"measurement.html\", columns=mcol, rows=mrows)\n",
    "\n",
    "@app.route(\"/station\")\n",
    "def display_station():\n",
    "    scol = Station.columns.tolist()  # Get column names\n",
    "    srows = Station.to_dict(orient='records')  # Convert DataFrame to list of dictionaries\n",
    "    return render_template(\"station.html\", columns=scol, rows=srows)\n"
   ]
  },
  {
   "cell_type": "code",
   "execution_count": 8,
   "metadata": {},
   "outputs": [
    {
     "name": "stdout",
     "output_type": "stream",
     "text": [
      " * Serving Flask app '__main__'\n",
      " * Debug mode: off\n"
     ]
    },
    {
     "name": "stderr",
     "output_type": "stream",
     "text": [
      "\u001b[31m\u001b[1mWARNING: This is a development server. Do not use it in a production deployment. Use a production WSGI server instead.\u001b[0m\n",
      " * Running on http://127.0.0.1:5000\n",
      "\u001b[33mPress CTRL+C to quit\u001b[0m\n",
      "127.0.0.1 - - [24/Aug/2023 23:00:19] \"GET /station HTTP/1.1\" 200 -\n",
      "127.0.0.1 - - [24/Aug/2023 23:00:24] \"GET /second HTTP/1.1\" 200 -\n"
     ]
    },
    {
     "name": "stdout",
     "output_type": "stream",
     "text": [
      "Server received request for SECOND page...\n"
     ]
    },
    {
     "name": "stderr",
     "output_type": "stream",
     "text": [
      "127.0.0.1 - - [24/Aug/2023 23:00:24] \"GET / HTTP/1.1\" 200 -\n"
     ]
    }
   ],
   "source": [
    "app.run()"
   ]
  },
  {
   "cell_type": "code",
   "execution_count": null,
   "metadata": {},
   "outputs": [],
   "source": [
    "session.close"
   ]
  }
 ],
 "metadata": {
  "kernelspec": {
   "display_name": "Python 3",
   "language": "python",
   "name": "python3"
  },
  "language_info": {
   "codemirror_mode": {
    "name": "ipython",
    "version": 3
   },
   "file_extension": ".py",
   "mimetype": "text/x-python",
   "name": "python",
   "nbconvert_exporter": "python",
   "pygments_lexer": "ipython3",
   "version": "3.9.6"
  },
  "orig_nbformat": 4
 },
 "nbformat": 4,
 "nbformat_minor": 2
}
