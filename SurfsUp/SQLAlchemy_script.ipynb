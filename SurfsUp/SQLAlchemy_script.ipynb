{
 "cells": [
  {
   "cell_type": "code",
   "execution_count": null,
   "metadata": {},
   "outputs": [],
   "source": [
    "%matplotlib inline\n",
    "from matplotlib import style\n",
    "style.use('fivethirtyeight')\n",
    "import matplotlib.pyplot as plt\n",
    "import numpy as np\n",
    "import pandas as pd\n",
    "import datetime as dt\n",
    "import sqlalchemy\n",
    "from sqlalchemy.ext.automap import automap_base\n",
    "from sqlalchemy.orm import Session\n",
    "from sqlalchemy import create_engine, func"
   ]
  },
  {
   "cell_type": "markdown",
   "metadata": {},
   "source": [
    "# Reflect Tables into SQLAlchemy ORM"
   ]
  },
  {
   "cell_type": "code",
   "execution_count": null,
   "metadata": {},
   "outputs": [],
   "source": [
    "# create engine to hawaii.sqlite\n",
    "engine = create_engine(\"sqlite:///Resources/hawaii.sqlite\")"
   ]
  },
  {
   "cell_type": "code",
   "execution_count": null,
   "metadata": {},
   "outputs": [],
   "source": [
    "# reflect an existing database into a new model\n",
    "Base = automap_base()\n",
    "Base.prepare(autoload_with=engine)\n",
    "\n",
    "# View all of the classes that automap found\n",
    "Base.classes.keys()"
   ]
  },
  {
   "cell_type": "code",
   "execution_count": null,
   "metadata": {},
   "outputs": [],
   "source": [
    "# Save references to each table\n",
    "Measurement = Base.classes.measurement\n",
    "Station = Base.classes.station"
   ]
  },
  {
   "cell_type": "markdown",
   "metadata": {},
   "source": [
    "# Exploratory Precipitation Analysis"
   ]
  },
  {
   "cell_type": "code",
   "execution_count": null,
   "metadata": {},
   "outputs": [],
   "source": [
    "# Create our session (link) from Python to the DB\n",
    "session = Session(engine)"
   ]
  },
  {
   "cell_type": "code",
   "execution_count": null,
   "metadata": {},
   "outputs": [],
   "source": [
    "# Find the most recent date in the data set.\n",
    "most_recent_date = session.query(func.max(Measurement.date)).scalar()\n",
    "most_recent_date"
   ]
  },
  {
   "cell_type": "markdown",
   "metadata": {},
   "source": [
    "#### Design a query to retrieve the last 12 months of precipitation data and plot the results,</br> starting from the most recent data point in the database. "
   ]
  },
  {
   "cell_type": "code",
   "execution_count": null,
   "metadata": {},
   "outputs": [],
   "source": [
    "# Calculate the date one year previous\n",
    "one_year_previous = dt.date.fromisoformat(most_recent_date) \\\n",
    "                    - dt.timedelta(days=365)\n",
    "\n",
    "# Query data from Measurement table \n",
    "precip_year = session.query(Measurement.date, func.max(Measurement.prcp))\\\n",
    "    .filter(Measurement.date > one_year_previous)\\\n",
    "    .group_by(Measurement.date)\\\n",
    "    .order_by(Measurement.date)\\\n",
    "    .all()\n"
   ]
  },
  {
   "cell_type": "code",
   "execution_count": null,
   "metadata": {},
   "outputs": [],
   "source": [
    "# Extracting x and y values from the data\n",
    "x_values = [item[0] for item in precip_year]\n",
    "y_values = [item[1] for item in precip_year]\n",
    "\n",
    "# Set up the plot\n",
    "plt.figure(figsize=(10, 6))\n",
    "plt.bar(x_values, y_values)\n",
    "plt.xlabel('Date')\n",
    "plt.ylabel('Precipitation (inches)')\n",
    "plt.title('Precipitation (1 Year)')\n",
    "\n",
    "# Adjust x-axis tick labels\n",
    "start_date = one_year_previous\n",
    "tick_interval = 77  \n",
    "\n",
    "# Filter x_values and corresponding labels\n",
    "filtered_x_values = [x for i, x in enumerate(x_values) if i % tick_interval == 0]\n",
    "filtered_labels = [x for i, x in enumerate(x_values) if i % tick_interval == 0]\n",
    "\n",
    "plt.xticks(filtered_x_values, filtered_labels, rotation=90)\n",
    "plt.tight_layout()\n",
    "\n",
    "# Show the plot\n",
    "plt.show()"
   ]
  },
  {
   "cell_type": "code",
   "execution_count": null,
   "metadata": {},
   "outputs": [],
   "source": [
    "# Use Pandas to calculate the summary statistics for the precipitation data\n",
    "prcp_summary = pd.DataFrame(session.query(Measurement.date, Measurement.prcp)\\\n",
    "                .filter(Measurement.date >= one_year_previous))\n",
    "prcp_summary.describe()"
   ]
  },
  {
   "cell_type": "markdown",
   "metadata": {},
   "source": [
    "# Exploratory Station Analysis"
   ]
  },
  {
   "cell_type": "code",
   "execution_count": null,
   "metadata": {},
   "outputs": [],
   "source": [
    "# Design a query to calculate the total number of stations in the dataset\n",
    "print('The number of Stations is: ', session.query(Station.station).count())"
   ]
  },
  {
   "cell_type": "code",
   "execution_count": null,
   "metadata": {},
   "outputs": [],
   "source": [
    "# Design a query to find the most active stations (i.e. which stations have the most rows?)\n",
    "# List the stations and their counts in descending order.\n",
    "\n",
    "station_counts = session.query(Measurement.station, func.count(Measurement.id).label('ct'))\\\n",
    "                        .group_by(Measurement.station)\\\n",
    "                        .order_by(func.count(Measurement.id).desc())\\\n",
    "                        .order_by('ct')\\\n",
    "                        .all()\n",
    "station_counts"
   ]
  },
  {
   "cell_type": "code",
   "execution_count": null,
   "metadata": {},
   "outputs": [],
   "source": [
    "# Using the most active station id from the previous query, calculate the lowest, highest, and average temperature.\n",
    "\n",
    "most_active = station_counts.nlargest(1).index[0]\n",
    "\n",
    "most_active_df = M_data[M_data['station'] == most_active]\n",
    "\n",
    "mas_lo = most_active_df['tobs'].min()\n",
    "mas_hi = most_active_df['tobs'].max()\n",
    "mas_avg = most_active_df['tobs'].mean()\n",
    "\n",
    "print(f'Lowest Temp: {mas_lo}')\n",
    "print(f'Highest Temp: {mas_hi}')\n",
    "print(f'Average Temp: {mas_avg}')"
   ]
  },
  {
   "cell_type": "code",
   "execution_count": null,
   "metadata": {},
   "outputs": [],
   "source": [
    "# Using the most active station id\n",
    "# Query the last 12 months of temperature observation data for this station and plot the results as a histogram\n",
    "\n",
    "mas_temp_1yr = year_precip[year_precip['station'] == most_active]\n",
    "\n",
    "# Set up the plot\n",
    "\n",
    "plt.figure(figsize=(10, 6))  # Set the figure size\n",
    "\n",
    "# Create a histogram of temperatures with 12 bins\n",
    "plt.hist(mas_temp_1yr['tobs'], bins=12, color='blue', alpha=0.7)\n",
    "\n",
    "# Configure the plot\n",
    "plt.xlabel('Temperature')\n",
    "plt.ylabel('Frequency')\n",
    "plt.title('Temperature Observations, past year')\n",
    "plt.legend(['Temperature'], loc='upper right')\n",
    "\n",
    "# Show the plot\n",
    "plt.tight_layout()  \n",
    "plt.show()\n",
    "\n"
   ]
  },
  {
   "cell_type": "markdown",
   "metadata": {},
   "source": [
    "### Close Session"
   ]
  },
  {
   "cell_type": "code",
   "execution_count": null,
   "metadata": {},
   "outputs": [],
   "source": [
    "session.close()"
   ]
  }
 ],
 "metadata": {
  "kernelspec": {
   "display_name": "Python 3",
   "language": "python",
   "name": "python3"
  },
  "language_info": {
   "codemirror_mode": {
    "name": "ipython",
    "version": 3
   },
   "file_extension": ".py",
   "mimetype": "text/x-python",
   "name": "python",
   "nbconvert_exporter": "python",
   "pygments_lexer": "ipython3",
   "version": "3.9.6"
  },
  "orig_nbformat": 4
 },
 "nbformat": 4,
 "nbformat_minor": 2
}
